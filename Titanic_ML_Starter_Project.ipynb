{
 "cells": [
  {
   "cell_type": "markdown",
   "id": "5633fd0c",
   "metadata": {},
   "source": [
    "\n",
    "# Titanic ML Starter Project (NumPy • pandas • Matplotlib • scikit-learn)\n",
    "\n",
    "Welcome! This notebook is a hands-on, beginner-friendly project that walks you through an end‑to‑end ML workflow using the classic **Titanic** dataset.\n",
    "\n",
    "**You will practice:**\n",
    "- Loading & inspecting data (pandas, NumPy)\n",
    "- Exploratory Data Analysis (Matplotlib only)\n",
    "- Data cleaning & feature engineering\n",
    "- Building a baseline ML model (scikit‑learn `LogisticRegression`)\n",
    "- Evaluating with accuracy, confusion matrix, ROC‑AUC\n",
    "- Packaging steps with `Pipeline` + `ColumnTransformer`\n",
    "\n",
    "> Note: We use `seaborn` only to **load** the Titanic dataset. All **charts** use Matplotlib (as required).\n"
   ]
  },
  {
   "cell_type": "markdown",
   "id": "5c65b87c",
   "metadata": {},
   "source": [
    "## 0) Setup"
   ]
  },
  {
   "cell_type": "code",
   "execution_count": null,
   "id": "58a27302",
   "metadata": {},
   "outputs": [],
   "source": [
    "\n",
    "# !pip install numpy pandas matplotlib scikit-learn seaborn --quiet  # (Uncomment if needed)\n",
    "import numpy as np\n",
    "import pandas as pd\n",
    "import matplotlib.pyplot as plt\n",
    "\n",
    "# We import seaborn JUST to load the Titanic dataset easily.\n",
    "import seaborn as sns\n",
    "\n",
    "from sklearn.model_selection import train_test_split\n",
    "from sklearn.preprocessing import OneHotEncoder, StandardScaler\n",
    "from sklearn.compose import ColumnTransformer\n",
    "from sklearn.pipeline import Pipeline\n",
    "from sklearn.impute import SimpleImputer\n",
    "from sklearn.linear_model import LogisticRegression\n",
    "from sklearn.metrics import accuracy_score, confusion_matrix, ConfusionMatrixDisplay, roc_auc_score, RocCurveDisplay\n"
   ]
  },
  {
   "cell_type": "markdown",
   "id": "6e166c0e",
   "metadata": {},
   "source": [
    "## 1) Load the dataset"
   ]
  },
  {
   "cell_type": "code",
   "execution_count": null,
   "id": "8b632a8d",
   "metadata": {},
   "outputs": [],
   "source": [
    "\n",
    "# Load Titanic dataset from seaborn\n",
    "df = sns.load_dataset('titanic')\n",
    "print(df.shape)\n",
    "df.head()\n"
   ]
  },
  {
   "cell_type": "markdown",
   "id": "92c9382c",
   "metadata": {},
   "source": [
    "## 2) Quick inspection"
   ]
  },
  {
   "cell_type": "code",
   "execution_count": null,
   "id": "6db9e9c9",
   "metadata": {},
   "outputs": [],
   "source": [
    "\n",
    "# Overview of columns, types, and missingness\n",
    "df.info()\n"
   ]
  },
  {
   "cell_type": "code",
   "execution_count": null,
   "id": "7f4d0bfd",
   "metadata": {},
   "outputs": [],
   "source": [
    "\n",
    "df.describe(include='all').T\n"
   ]
  },
  {
   "cell_type": "markdown",
   "id": "42d846e4",
   "metadata": {},
   "source": [
    "## 3) Exploratory Data Analysis (Matplotlib only)"
   ]
  },
  {
   "cell_type": "code",
   "execution_count": null,
   "id": "246dbecc",
   "metadata": {},
   "outputs": [],
   "source": [
    "\n",
    "# Target distribution (survived)\n",
    "fig = plt.figure()\n",
    "df['survived'].value_counts().sort_index().plot(kind='bar')\n",
    "plt.title('Target Distribution: Survived (0 = No, 1 = Yes)')\n",
    "plt.xlabel('Survived')\n",
    "plt.ylabel('Count')\n",
    "plt.show()\n"
   ]
  },
  {
   "cell_type": "code",
   "execution_count": null,
   "id": "61c97335",
   "metadata": {},
   "outputs": [],
   "source": [
    "\n",
    "# Age histogram\n",
    "fig = plt.figure()\n",
    "df['age'].plot(kind='hist', bins=30)\n",
    "plt.title('Age Distribution')\n",
    "plt.xlabel('Age')\n",
    "plt.ylabel('Frequency')\n",
    "plt.show()\n"
   ]
  },
  {
   "cell_type": "code",
   "execution_count": null,
   "id": "a96c600c",
   "metadata": {},
   "outputs": [],
   "source": [
    "\n",
    "# Fare vs. Survived (simple box-like visualization using Matplotlib's boxplot)\n",
    "fig = plt.figure()\n",
    "plt.boxplot([df.loc[df['survived']==0, 'fare'].dropna(), df.loc[df['survived']==1, 'fare'].dropna()],\n",
    "            labels=['Not Survived','Survived'])\n",
    "plt.title('Fare by Survival')\n",
    "plt.ylabel('Fare')\n",
    "plt.show()\n"
   ]
  },
  {
   "cell_type": "markdown",
   "id": "a8f58ed4",
   "metadata": {},
   "source": [
    "\n",
    "## 4) Choose features & target\n",
    "\n",
    "We'll keep things simple:\n",
    "- **Target**: `survived`\n",
    "- **Features**: `pclass`, `sex`, `age`, `sibsp`, `parch`, `fare`, `embarked`\n",
    "\n",
    "We'll one‑hot encode categorical variables and scale numeric variables (good practice for linear models).\n"
   ]
  },
  {
   "cell_type": "code",
   "execution_count": null,
   "id": "83d28021",
   "metadata": {},
   "outputs": [],
   "source": [
    "\n",
    "target = 'survived'\n",
    "features = ['pclass','sex','age','sibsp','parch','fare','embarked']\n",
    "\n",
    "X = df[features].copy()\n",
    "y = df[target].astype(int)\n",
    "X.head()\n"
   ]
  },
  {
   "cell_type": "markdown",
   "id": "c12b5b73",
   "metadata": {},
   "source": [
    "## 5) Train/Test Split"
   ]
  },
  {
   "cell_type": "code",
   "execution_count": null,
   "id": "8baf3a02",
   "metadata": {},
   "outputs": [],
   "source": [
    "\n",
    "X_train, X_test, y_train, y_test = train_test_split(X, y, test_size=0.2, random_state=42, stratify=y)\n",
    "X_train.shape, X_test.shape\n"
   ]
  },
  {
   "cell_type": "markdown",
   "id": "9fd84939",
   "metadata": {},
   "source": [
    "## 6) Preprocessing: Impute • Encode • Scale"
   ]
  },
  {
   "cell_type": "code",
   "execution_count": null,
   "id": "88e04bae",
   "metadata": {},
   "outputs": [],
   "source": [
    "\n",
    "# Identify numeric and categorical columns\n",
    "numeric_features = ['age','sibsp','parch','fare']\n",
    "categorical_features = ['pclass','sex','embarked']\n",
    "\n",
    "numeric_transformer = Pipeline(steps=[\n",
    "    ('imputer', SimpleImputer(strategy='median')),\n",
    "    ('scaler', StandardScaler())\n",
    "])\n",
    "\n",
    "categorical_transformer = Pipeline(steps=[\n",
    "    ('imputer', SimpleImputer(strategy='most_frequent')),\n",
    "    ('onehot', OneHotEncoder(handle_unknown='ignore'))\n",
    "])\n",
    "\n",
    "preprocess = ColumnTransformer(\n",
    "    transformers=[\n",
    "        ('num', numeric_transformer, numeric_features),\n",
    "        ('cat', categorical_transformer, categorical_features)\n",
    "    ]\n",
    ")\n",
    "preprocess\n"
   ]
  },
  {
   "cell_type": "markdown",
   "id": "4bd8d841",
   "metadata": {},
   "source": [
    "## 7) Baseline Model: Logistic Regression (with Pipeline)"
   ]
  },
  {
   "cell_type": "code",
   "execution_count": null,
   "id": "8a6db190",
   "metadata": {},
   "outputs": [],
   "source": [
    "\n",
    "clf = Pipeline(steps=[\n",
    "    ('preprocess', preprocess),\n",
    "    ('model', LogisticRegression(max_iter=1000))\n",
    "])\n",
    "\n",
    "clf.fit(X_train, y_train)\n",
    "print('Training done.')\n"
   ]
  },
  {
   "cell_type": "markdown",
   "id": "61409263",
   "metadata": {},
   "source": [
    "## 8) Evaluation: Accuracy, Confusion Matrix, ROC-AUC"
   ]
  },
  {
   "cell_type": "code",
   "execution_count": null,
   "id": "c0267c58",
   "metadata": {},
   "outputs": [],
   "source": [
    "\n",
    "y_pred = clf.predict(X_test)\n",
    "acc = accuracy_score(y_test, y_pred)\n",
    "cm = confusion_matrix(y_test, y_pred)\n",
    "\n",
    "print(f'Accuracy: {acc:.3f}')\n",
    "print('Confusion Matrix:\\n', cm)\n",
    "\n",
    "# Confusion matrix plot\n",
    "disp = ConfusionMatrixDisplay(confusion_matrix=cm, display_labels=clf.classes_)\n",
    "fig = plt.figure()\n",
    "disp.plot(values_format='d')\n",
    "plt.title('Confusion Matrix')\n",
    "plt.show()\n",
    "\n",
    "# ROC-AUC\n",
    "y_proba = clf.predict_proba(X_test)[:, 1]\n",
    "auc = roc_auc_score(y_test, y_proba)\n",
    "print(f'ROC-AUC: {auc:.3f}')\n",
    "\n",
    "fig = plt.figure()\n",
    "RocCurveDisplay.from_predictions(y_test, y_proba)\n",
    "plt.title('ROC Curve')\n",
    "plt.show()\n"
   ]
  },
  {
   "cell_type": "markdown",
   "id": "8289f3fc",
   "metadata": {},
   "source": [
    "## 9) (Optional) Peek inside the model"
   ]
  },
  {
   "cell_type": "code",
   "execution_count": null,
   "id": "f9b696b5",
   "metadata": {},
   "outputs": [],
   "source": [
    "\n",
    "# After one-hot encoding, it's useful to see feature names:\n",
    "ohe = clf.named_steps['preprocess'].named_transformers_['cat'].named_steps['onehot']\n",
    "cat_feature_names = ohe.get_feature_names_out(categorical_features)\n",
    "all_feature_names = np.concatenate([numeric_features, cat_feature_names])\n",
    "\n",
    "# Extract coefficients from the logistic regression\n",
    "coefs = clf.named_steps['model'].coef_.ravel()\n",
    "coef_df = pd.DataFrame({'feature': all_feature_names, 'coef': coefs}).sort_values('coef', ascending=False)\n",
    "coef_df.head(10)\n"
   ]
  },
  {
   "cell_type": "markdown",
   "id": "9cc4655a",
   "metadata": {},
   "source": [
    "\n",
    "## 10) Next Steps & Exercises\n",
    "\n",
    "- Try adding more features: `class`, `who`, `alone`, `embark_town`, `deck` (after cleaning).\n",
    "- Compare models: `RandomForestClassifier`, `XGBClassifier` (if available), `SVC`.\n",
    "- Hyperparameter tuning: `GridSearchCV` or `RandomizedSearchCV` on Logistic Regression `C`, or RandomForest `n_estimators` / `max_depth`.\n",
    "- Cross‑validation: Use `cross_val_score` to get more stable estimates.\n",
    "- Feature importance: Use permutation importance (`sklearn.inspection.permutation_importance`).\n",
    "- Write a short README: problem statement, data steps, model choice, metrics, and how to run.\n",
    "\n",
    "**Stretch goal:** Deploy with **Streamlit** (inputs → prediction) or a simple **Flask** API.\n"
   ]
  }
 ],
 "metadata": {},
 "nbformat": 4,
 "nbformat_minor": 5
}
